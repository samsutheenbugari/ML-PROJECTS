{
 "cells": [
  {
   "cell_type": "code",
   "execution_count": 1,
   "id": "b809f4b5-5b7b-4d9f-8f85-542c3b0cac40",
   "metadata": {},
   "outputs": [],
   "source": [
    "import pandas as pd\n",
    "from sklearn.feature_extraction.text import TfidfVectorizer\n",
    "from sklearn.metrics.pairwise import linear_kernel"
   ]
  },
  {
   "cell_type": "code",
   "execution_count": 2,
   "id": "16005f90-8717-4d3b-9176-31388f0ad16a",
   "metadata": {},
   "outputs": [],
   "source": [
    "moviedf=pd.read_csv(\"Movies_dataset.csv\")"
   ]
  },
  {
   "cell_type": "code",
   "execution_count": 3,
   "id": "459b3409-6041-4272-8546-ca91ec5928c5",
   "metadata": {
    "scrolled": true
   },
   "outputs": [
    {
     "data": {
      "text/html": [
       "<div>\n",
       "<style scoped>\n",
       "    .dataframe tbody tr th:only-of-type {\n",
       "        vertical-align: middle;\n",
       "    }\n",
       "\n",
       "    .dataframe tbody tr th {\n",
       "        vertical-align: top;\n",
       "    }\n",
       "\n",
       "    .dataframe thead th {\n",
       "        text-align: right;\n",
       "    }\n",
       "</style>\n",
       "<table border=\"1\" class=\"dataframe\">\n",
       "  <thead>\n",
       "    <tr style=\"text-align: right;\">\n",
       "      <th></th>\n",
       "      <th>Movie Title</th>\n",
       "      <th>Ratinng</th>\n",
       "      <th>genre</th>\n",
       "      <th>act</th>\n",
       "      <th>Plot</th>\n",
       "    </tr>\n",
       "  </thead>\n",
       "  <tbody>\n",
       "    <tr>\n",
       "      <th>0</th>\n",
       "      <td>3 Idiots</td>\n",
       "      <td>8.4</td>\n",
       "      <td>Comedy, Drama</td>\n",
       "      <td>Aamir Khan, Madhavan, Mona Singh, Sharman Josh...</td>\n",
       "      <td>papadum, hairy chest, against the system, comi...</td>\n",
       "    </tr>\n",
       "    <tr>\n",
       "      <th>1</th>\n",
       "      <td>Taare Zameen Par</td>\n",
       "      <td>8.3</td>\n",
       "      <td>Drama, Family</td>\n",
       "      <td>Darsheel Safary, Aamir Khan, Tisca Chopra, Vip...</td>\n",
       "      <td>teacher student relationship, dyslexia, agains...</td>\n",
       "    </tr>\n",
       "    <tr>\n",
       "      <th>2</th>\n",
       "      <td>PK</td>\n",
       "      <td>8.1</td>\n",
       "      <td>Comedy, Drama, Sci-Fi</td>\n",
       "      <td>Aamir Khan, Anushka Sharma, Sanjay Dutt, Boman...</td>\n",
       "      <td>guru, religion, tv reporter, alien on earth, p...</td>\n",
       "    </tr>\n",
       "    <tr>\n",
       "      <th>3</th>\n",
       "      <td>Dangal</td>\n",
       "      <td>8.3</td>\n",
       "      <td>Action, Biography, Drama</td>\n",
       "      <td>Aamir Khan, Sakshi Tanwar, Fatima Sana Shaikh,...</td>\n",
       "      <td>small town, father daughter relationship, male...</td>\n",
       "    </tr>\n",
       "    <tr>\n",
       "      <th>4</th>\n",
       "      <td>Rang De Basanti</td>\n",
       "      <td>8.1</td>\n",
       "      <td>Comedy, Crime, Drama</td>\n",
       "      <td>Aamir Khan, Soha Ali Khan, Siddharth, Sharman ...</td>\n",
       "      <td>delhi india, murder, friend, india, awakening,...</td>\n",
       "    </tr>\n",
       "    <tr>\n",
       "      <th>...</th>\n",
       "      <td>...</td>\n",
       "      <td>...</td>\n",
       "      <td>...</td>\n",
       "      <td>...</td>\n",
       "      <td>...</td>\n",
       "    </tr>\n",
       "    <tr>\n",
       "      <th>806</th>\n",
       "      <td>Parde Ke Peechey</td>\n",
       "      <td>5.9</td>\n",
       "      <td>Action</td>\n",
       "      <td>Vinod Mehra, Yogeeta Bali, Pran Sikand, Bindu ...</td>\n",
       "      <td>crook</td>\n",
       "    </tr>\n",
       "    <tr>\n",
       "      <th>807</th>\n",
       "      <td>Dhamkee</td>\n",
       "      <td>4.0</td>\n",
       "      <td>Action, Comedy</td>\n",
       "      <td>Ravi Teja, Anushka Shetty, Krishna, Pradeep Si...</td>\n",
       "      <td>sorry</td>\n",
       "    </tr>\n",
       "    <tr>\n",
       "      <th>808</th>\n",
       "      <td>Chhoo Mantar</td>\n",
       "      <td>6.0</td>\n",
       "      <td>Comedy</td>\n",
       "      <td>Shyama, Johnny Walker, Anita Guha, Gajanan Jag...</td>\n",
       "      <td>rescue, beating, river, village, wedding, flir...</td>\n",
       "    </tr>\n",
       "    <tr>\n",
       "      <th>809</th>\n",
       "      <td>Ladki Sahyadri Ki</td>\n",
       "      <td>5.0</td>\n",
       "      <td>Musical, Drama</td>\n",
       "      <td>Shalini Abhyankar, Keshavrao Date, Vatsala Des...</td>\n",
       "      <td>sorry</td>\n",
       "    </tr>\n",
       "    <tr>\n",
       "      <th>810</th>\n",
       "      <td>Madadgaar</td>\n",
       "      <td>7.2</td>\n",
       "      <td>Drama, Romance</td>\n",
       "      <td>Ravindra Kapoor, Indira, Jeevan Dhar, Uma Dutt...</td>\n",
       "      <td>sorry</td>\n",
       "    </tr>\n",
       "  </tbody>\n",
       "</table>\n",
       "<p>811 rows × 5 columns</p>\n",
       "</div>"
      ],
      "text/plain": [
       "           Movie Title  Ratinng                     genre  \\\n",
       "0             3 Idiots      8.4             Comedy, Drama   \n",
       "1     Taare Zameen Par      8.3             Drama, Family   \n",
       "2                   PK      8.1     Comedy, Drama, Sci-Fi   \n",
       "3               Dangal      8.3  Action, Biography, Drama   \n",
       "4      Rang De Basanti      8.1      Comedy, Crime, Drama   \n",
       "..                 ...      ...                       ...   \n",
       "806   Parde Ke Peechey      5.9                    Action   \n",
       "807            Dhamkee      4.0            Action, Comedy   \n",
       "808       Chhoo Mantar      6.0                    Comedy   \n",
       "809  Ladki Sahyadri Ki      5.0            Musical, Drama   \n",
       "810          Madadgaar      7.2            Drama, Romance   \n",
       "\n",
       "                                                   act  \\\n",
       "0    Aamir Khan, Madhavan, Mona Singh, Sharman Josh...   \n",
       "1    Darsheel Safary, Aamir Khan, Tisca Chopra, Vip...   \n",
       "2    Aamir Khan, Anushka Sharma, Sanjay Dutt, Boman...   \n",
       "3    Aamir Khan, Sakshi Tanwar, Fatima Sana Shaikh,...   \n",
       "4    Aamir Khan, Soha Ali Khan, Siddharth, Sharman ...   \n",
       "..                                                 ...   \n",
       "806  Vinod Mehra, Yogeeta Bali, Pran Sikand, Bindu ...   \n",
       "807  Ravi Teja, Anushka Shetty, Krishna, Pradeep Si...   \n",
       "808  Shyama, Johnny Walker, Anita Guha, Gajanan Jag...   \n",
       "809  Shalini Abhyankar, Keshavrao Date, Vatsala Des...   \n",
       "810  Ravindra Kapoor, Indira, Jeevan Dhar, Uma Dutt...   \n",
       "\n",
       "                                                  Plot  \n",
       "0    papadum, hairy chest, against the system, comi...  \n",
       "1    teacher student relationship, dyslexia, agains...  \n",
       "2    guru, religion, tv reporter, alien on earth, p...  \n",
       "3    small town, father daughter relationship, male...  \n",
       "4    delhi india, murder, friend, india, awakening,...  \n",
       "..                                                 ...  \n",
       "806                                              crook  \n",
       "807                                              sorry  \n",
       "808  rescue, beating, river, village, wedding, flir...  \n",
       "809                                              sorry  \n",
       "810                                              sorry  \n",
       "\n",
       "[811 rows x 5 columns]"
      ]
     },
     "execution_count": 3,
     "metadata": {},
     "output_type": "execute_result"
    }
   ],
   "source": [
    "moviedf"
   ]
  },
  {
   "cell_type": "code",
   "execution_count": 4,
   "id": "79bd43ae-bc87-46a8-b7ca-75feb362564a",
   "metadata": {},
   "outputs": [
    {
     "data": {
      "text/plain": [
       "Movie Title    0\n",
       "Ratinng        0\n",
       "genre          0\n",
       "act            0\n",
       "Plot           0\n",
       "dtype: int64"
      ]
     },
     "execution_count": 4,
     "metadata": {},
     "output_type": "execute_result"
    }
   ],
   "source": [
    "moviedf.isna().sum()"
   ]
  },
  {
   "cell_type": "code",
   "execution_count": 6,
   "id": "5bda2409-d08d-4f16-bd12-ee00eaa3f923",
   "metadata": {},
   "outputs": [
    {
     "data": {
      "text/plain": [
       "Movie Title     object\n",
       "Ratinng        float64\n",
       "genre           object\n",
       "act             object\n",
       "Plot            object\n",
       "dtype: object"
      ]
     },
     "execution_count": 6,
     "metadata": {},
     "output_type": "execute_result"
    }
   ],
   "source": [
    "moviedf.dtypes"
   ]
  },
  {
   "cell_type": "code",
   "execution_count": null,
   "id": "362f83fe-22b2-4253-b579-d03e2dfc572b",
   "metadata": {},
   "outputs": [],
   "source": []
  },
  {
   "cell_type": "code",
   "execution_count": 7,
   "id": "90c69fe9-0acf-4a9f-a1d8-69c565e57691",
   "metadata": {},
   "outputs": [],
   "source": [
    "tfidf=TfidfVectorizer()"
   ]
  },
  {
   "cell_type": "code",
   "execution_count": 8,
   "id": "78f0bdea-64cb-494c-8b9b-e584b179b171",
   "metadata": {},
   "outputs": [],
   "source": [
    "vectors=tfidf.fit_transform(moviedf['genre'])"
   ]
  },
  {
   "cell_type": "code",
   "execution_count": 9,
   "id": "3b30938f-c2b4-4229-8fb3-ab6b2e5ae043",
   "metadata": {},
   "outputs": [
    {
     "data": {
      "text/plain": [
       "<Compressed Sparse Row sparse matrix of dtype 'float64'\n",
       "\twith 1946 stored elements and shape (811, 22)>"
      ]
     },
     "execution_count": 9,
     "metadata": {},
     "output_type": "execute_result"
    }
   ],
   "source": [
    "vectors"
   ]
  },
  {
   "cell_type": "code",
   "execution_count": null,
   "id": "98da7a96-87cb-4ce5-9652-138ee48d2cfd",
   "metadata": {},
   "outputs": [],
   "source": [
    "print"
   ]
  },
  {
   "cell_type": "code",
   "execution_count": null,
   "id": "3a65dd88-cadd-4828-8b89-bdd60aece100",
   "metadata": {},
   "outputs": [],
   "source": []
  },
  {
   "cell_type": "code",
   "execution_count": null,
   "id": "f2170721-3d3f-477a-a297-dab49a40bcdb",
   "metadata": {},
   "outputs": [],
   "source": []
  },
  {
   "cell_type": "code",
   "execution_count": null,
   "id": "6ec365cb-df9b-4478-ab46-cd5c1934eddb",
   "metadata": {},
   "outputs": [],
   "source": []
  },
  {
   "cell_type": "code",
   "execution_count": null,
   "id": "7294e82e-535e-4d0b-b920-cd6f53711173",
   "metadata": {},
   "outputs": [],
   "source": []
  },
  {
   "cell_type": "code",
   "execution_count": null,
   "id": "0f7886cd-9e00-4351-89f0-125fae59295f",
   "metadata": {},
   "outputs": [],
   "source": []
  },
  {
   "cell_type": "code",
   "execution_count": null,
   "id": "6da45c31-fea7-4369-a974-12483cc0dade",
   "metadata": {},
   "outputs": [],
   "source": []
  },
  {
   "cell_type": "code",
   "execution_count": null,
   "id": "e39fe00d-45f7-4c11-a872-8e9e258368af",
   "metadata": {},
   "outputs": [],
   "source": []
  },
  {
   "cell_type": "code",
   "execution_count": null,
   "id": "6ca7235a-9d6a-4240-bd0c-cc6965458dab",
   "metadata": {},
   "outputs": [],
   "source": []
  },
  {
   "cell_type": "code",
   "execution_count": null,
   "id": "4db2489f-d333-4305-a727-808954a22010",
   "metadata": {},
   "outputs": [],
   "source": []
  },
  {
   "cell_type": "code",
   "execution_count": null,
   "id": "6815815f-be1b-42a1-830e-72e5c53fd0da",
   "metadata": {},
   "outputs": [],
   "source": []
  },
  {
   "cell_type": "code",
   "execution_count": null,
   "id": "353fbc28-df14-4ed9-a232-62080ad85868",
   "metadata": {},
   "outputs": [],
   "source": []
  },
  {
   "cell_type": "code",
   "execution_count": null,
   "id": "c3df0e21-71a4-4f64-8f8a-3c69547b72fa",
   "metadata": {},
   "outputs": [],
   "source": []
  }
 ],
 "metadata": {
  "kernelspec": {
   "display_name": "Python 3 (ipykernel)",
   "language": "python",
   "name": "python3"
  },
  "language_info": {
   "codemirror_mode": {
    "name": "ipython",
    "version": 3
   },
   "file_extension": ".py",
   "mimetype": "text/x-python",
   "name": "python",
   "nbconvert_exporter": "python",
   "pygments_lexer": "ipython3",
   "version": "3.12.3"
  }
 },
 "nbformat": 4,
 "nbformat_minor": 5
}
